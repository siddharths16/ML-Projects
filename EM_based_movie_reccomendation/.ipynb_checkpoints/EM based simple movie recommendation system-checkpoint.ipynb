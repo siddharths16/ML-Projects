{
 "cells": [
  {
   "cell_type": "code",
   "execution_count": 206,
   "metadata": {},
   "outputs": [],
   "source": [
    "import numpy as np\n",
    "import random\n",
    "import math\n",
    "import matplotlib.pyplot as plt\n",
    "from collections import defaultdict"
   ]
  },
  {
   "cell_type": "code",
   "execution_count": 207,
   "metadata": {},
   "outputs": [],
   "source": [
    "def read_data():\n",
    "    movie_titles = []\n",
    "    pid = []\n",
    "    ratings_mat = []\n",
    "    \n",
    "    with open(\"./data/hw8_movieTitles_fa18.txt\") as infile:\n",
    "        for line in infile:\n",
    "            line = line.strip()\n",
    "            line = line.split()\n",
    "            movie_titles.append(line[0])\n",
    "            \n",
    "    with open(\"./data/hw8_studentPIDs_fa18.txt\") as infile:\n",
    "        for line in infile:\n",
    "            line = line.strip()\n",
    "            line = line.split()\n",
    "            pid.append(line[0])\n",
    "            \n",
    "    ratings_mat = np.zeros((len(pid),len(movie_titles)))   \n",
    "    cnt = 0\n",
    "    \n",
    "    \"\"\"\n",
    "    Rating given by user to movies. \n",
    "    1 recommended\n",
    "    0 not recommend\n",
    "    ? not seen\n",
    "    \"\"\"\n",
    "    with open(\"./data/hw8_ratings_fa18.txt\") as infile:\n",
    "        for line in infile:\n",
    "            line = line.strip()\n",
    "            line = line.split()\n",
    "            rating = []\n",
    "            for i in line:\n",
    "                if(i=='?'):\n",
    "                    rating.append(-1)\n",
    "                else:\n",
    "                    rating.append(int(i))\n",
    "            ratings_mat[cnt] = rating\n",
    "            cnt = cnt + 1\n",
    "    \n",
    "    return movie_titles, pid, ratings_mat"
   ]
  },
  {
   "cell_type": "code",
   "execution_count": 3,
   "metadata": {},
   "outputs": [
    {
     "name": "stdout",
     "output_type": "stream",
     "text": [
      "Number of users:  269\n",
      "Number of Movies:  62\n"
     ]
    }
   ],
   "source": [
    "movies, users, ratings = read_data()\n",
    "print(\"Number of users: \", len(users))\n",
    "print(\"Number of Movies: \", len(movies))"
   ]
  },
  {
   "cell_type": "markdown",
   "metadata": {},
   "source": [
    "### Mean popularity rating of movies = $\\frac{number \\ \\ of students \\ \\ who \\ \\ recommended \\ \\ the \\ \\ movie}{number \\ \\ of \\ \\ students \\ \\ who \\ \\ saw \\ \\ the \\ \\ movie}$\n"
   ]
  },
  {
   "cell_type": "code",
   "execution_count": 4,
   "metadata": {},
   "outputs": [
    {
     "name": "stdout",
     "output_type": "stream",
     "text": [
      "Top 10 most popular movies\n"
     ]
    },
    {
     "data": {
      "text/plain": [
       "[(0.9730941704035875, 'Inception'),\n",
       " (0.9361702127659575, 'The_Social_Network'),\n",
       " (0.9255813953488372, 'The_Dark_Knight_Rises'),\n",
       " (0.9178743961352657, 'Interstellar'),\n",
       " (0.8914728682170543, 'Shutter_Island'),\n",
       " (0.8813559322033898, 'Wolf_of_Wall_Street'),\n",
       " (0.868421052631579, 'Django_Unchained'),\n",
       " (0.8636363636363636, 'Black_Swan'),\n",
       " (0.8629032258064516, 'Ready_Player_One'),\n",
       " (0.8604651162790697, '12_Years_a_Slave')]"
      ]
     },
     "execution_count": 4,
     "metadata": {},
     "output_type": "execute_result"
    }
   ],
   "source": [
    "movies_dict = defaultdict(int)\n",
    "movies_dict = [(sum(ratings[:,i]==1)/sum(ratings[:,i]!=-1),movies[i]) for i in range(len(movies))]\n",
    "movies_dict.sort(reverse=True)\n",
    "print(\"Top 10 most popular movies\")\n",
    "movies_dict[:10]"
   ]
  },
  {
   "cell_type": "code",
   "execution_count": 5,
   "metadata": {},
   "outputs": [
    {
     "name": "stdout",
     "output_type": "stream",
     "text": [
      "Least popular movies\n"
     ]
    },
    {
     "data": {
      "text/plain": [
       "[(0.5784313725490197, 'World_War_Z'),\n",
       " (0.5531914893617021, 'Magic_Mike'),\n",
       " (0.5454545454545454, 'Phantom_Thread'),\n",
       " (0.5111111111111111, 'The_Shape_of_Water'),\n",
       " (0.51, 'Prometheus'),\n",
       " (0.4892086330935252, 'Man_of_Steel'),\n",
       " (0.45454545454545453, 'Chappaquidick'),\n",
       " (0.36363636363636365, 'I_Feel_Pretty'),\n",
       " (0.3333333333333333, 'Fifty_Shades_of_Grey'),\n",
       " (0.3026315789473684, 'The_Last_Airbender')]"
      ]
     },
     "execution_count": 5,
     "metadata": {},
     "output_type": "execute_result"
    }
   ],
   "source": [
    "print(\"Least popular movies\")\n",
    "movies_dict[-10:]"
   ]
  },
  {
   "cell_type": "markdown",
   "metadata": {},
   "source": [
    "### Likelihood"
   ]
  },
  {
   "cell_type": "markdown",
   "metadata": {},
   "source": [
    "#### We use Naive-Bayes model to determine the likelihood of movie ratings. The model assumes that there are k different types of users (movie-goers) and that the ith type of movie goer— who represents a fraction P(Z =i) of the overall population—likes the jth movie with conditional probability $P(R_{j} =1|Z=i)$. Let $\\Omega_t$ denote the set of movies seen (and hence rated) by the $t^{th}$ student. The likelihood of $t^{th}$ student's ratingis given by: \n",
    "\\begin{equation}\n",
    "P\\left(\\{R_j = r_j^{(t)}\\}_{j\\in \\Omega_t}\\right) = \\sum_{i=1}^{k}P(Z=i)\\prod_{j\\in \\Omega_t} P(R_j = r_j^{(t)}|Z=i)\n",
    "\\end{equation}\n",
    "\n",
    "\n",
    "\\begin{equation}\n",
    "P\\left(\\{R_j = r_j^{(t)}\\}_{j\\in \\Omega_t}\\right) = \\sum_{i=1}^{k}P(Z=i)\\prod_{j\\in \\Omega_t} P(R_j = 1|Z=i)I(r_j^{(t)},1)\\prod_{j\\in \\Omega_t} (1- P(R_j = 0|Z=i))I(r_j^{(t)},0)\n",
    "\\end{equation}"
   ]
  },
  {
   "cell_type": "code",
   "execution_count": 199,
   "metadata": {},
   "outputs": [
    {
     "data": {
      "text/plain": [
       "-26.678832965400435"
      ]
     },
     "execution_count": 199,
     "metadata": {},
     "output_type": "execute_result"
    }
   ],
   "source": [
    "probZ_init = [0.2500, 0.2500, 0.2500, 0.2500] ##intial guesses of P(Z=i)\n",
    "\n",
    "RgivenZ = np.zeros([62,4]) ##Initializing P(R_j=1|Z=i)\n",
    "cnt=0\n",
    "\n",
    "## Read initial guesses for P(R_j=1/Z=i)\n",
    "with open(\"./data/hw8_probRgivenZ_init.txt\") as infile:\n",
    "    for line in infile:\n",
    "        line = line.strip()\n",
    "        line = line.split()\n",
    "        f = []\n",
    "        [f.append(float(i)) for i in line]\n",
    "        RgivenZ[cnt] = f   \n",
    "        cnt = cnt+1\n",
    "        \n",
    "def compute_log_likelihood(prior, r1_given_z ):\n",
    "    log_likelihood = 0\n",
    "    for t in range(len(ratings)):\n",
    "        temp = 0\n",
    "        for i in range(len(prior)):\n",
    "            temp += prior[i]*np.product(r1_given_z[np.where(ratings[t] == 1),i]) \\\n",
    "                                                         *np.product(1 - r1_given_z[np.where(ratings[t] == 0),i])\n",
    "        log_likelihood += np.log(temp)\n",
    "    return log_likelihood/len(ratings)\n",
    "compute_log_likelihood(probZ_init,RgivenZ)"
   ]
  },
  {
   "cell_type": "markdown",
   "metadata": {},
   "source": [
    "#### E-step: The E-step of this model is to compute, for each student, the posterior probability that he or she corresponds to a particular type of movie-goer.\n",
    "\\begin{equation}\n",
    "P\\left(Z=i|\\left\\{R_j=r_j^{(t)}\\right\\}_{j \\in \\Omega_t}\\right) = \\frac{P(Z=i)\\prod_{j\\in \\Omega_t} P(R_j = r_j^{(t)}|Z=i)}{\\sum_{i'=1}^{k}P(Z=i')\\prod_{j\\in \\Omega_t} P(R_j = r_j^{(t)}|Z=i')}\n",
    "\\end{equation}\n",
    "\n",
    "#### M-step: The M-step of the model is to re-estimate the probabilities $P(Z =i)$ and $P(R_j =1|Z =i)$ that define the CPTs of the belief network.\n",
    "\n",
    "\\begin{equation}\n",
    "\\rho_{it} = P\\left(Z=i|\\left\\{R_j=r_j^{(t)}\\right\\}_{j \\in \\Omega_t}\\right)\n",
    "\\end{equation}\n",
    "\n",
    "\\begin{equation}\n",
    "P(Z=i) = \\frac{1}{T}\\sum_{t=1}^{T} \\rho_{it}\n",
    "\\end{equation}\n",
    "\n",
    "\\begin{equation}\n",
    "P(R_j=1|Z=i) = \\frac{\\sum_{t|j\\in \\Omega_t}\\rho_{it} I\\left(r_j^{(t)},1\\right) + \\sum_{t|j\\notin \\Omega_t}\\rho_{it} P(R_j=1|Z=i) }{\\sum_{t=1}^{T} \\rho_{it}}\n",
    "\\end{equation}\n"
   ]
  },
  {
   "cell_type": "code",
   "execution_count": 200,
   "metadata": {},
   "outputs": [],
   "source": [
    "def e_step(prior,r1_given_z):\n",
    "    \n",
    "    posterior = np.zeros((len(ratings),len(prior)))\n",
    "    for t in range(len(ratings)):\n",
    "        sum1 = 0\n",
    "        for i in range(len(prior)):\n",
    "            posterior[t][i] = prior[i]*np.product(r1_given_z[np.where(ratings[t] == 1),i]) \\\n",
    "                                                         *np.product(1 - r1_given_z[np.where(ratings[t] == 0),i])\n",
    "            sum1 += posterior[t][i]\n",
    "        posterior[t] = posterior[t]/sum1\n",
    "            \n",
    "    return posterior\n",
    "        \n",
    "def m_step(posterior, pr, old_r1_given_z):\n",
    "    \n",
    "    rho =  np.sum(posterior,axis=0)\n",
    "    updated_prior = rho/len(ratings)\n",
    "    updated_r1_given_z = old_r1_given_z\n",
    "\n",
    "    for j in range(len(updated_r1_given_z)):\n",
    "        \n",
    "        for i in range(len(pr)):\n",
    "            temp = 0\n",
    "            for t in range(len(ratings)):\n",
    "                if (ratings[t,j] == 1):\n",
    "                    temp += posterior[t][i]                \n",
    "                elif (ratings[t,j]==-1):\n",
    "                    temp += posterior[t][i]*updated_r1_given_z[j][i]\n",
    "            updated_r1_given_z[j][i] = temp/rho[i]\n",
    "    \n",
    "    return updated_prior,updated_r1_given_z\n",
    "    \n",
    "\n",
    "def run_EM(prior, r1_given_z, num_iter=128):\n",
    "    print(\"Iter: \", 0 , \" LL: \", compute_log_likelihood(prior,r1_given_z))\n",
    "    iter1 = 1\n",
    "    cnt = 1;\n",
    "    for i in range(1,128):\n",
    "        posterior_r_given_z = e_step(prior, r1_given_z)\n",
    "        prior,r1_given_z = m_step(posterior_r_given_z, prior, r1_given_z)\n",
    "        if (iter1 == cnt):\n",
    "            print(\"Iter: \", i , \" LL: \", compute_log_likelihood(prior,r1_given_z))\n",
    "            iter1 = iter1*2\n",
    "        cnt = cnt+1\n",
    "    return posterior_r_given_z, r1_given_z"
   ]
  },
  {
   "cell_type": "code",
   "execution_count": 201,
   "metadata": {
    "scrolled": false
   },
   "outputs": [
    {
     "name": "stdout",
     "output_type": "stream",
     "text": [
      "Iter:  0  LL:  -26.678832965400435\n",
      "Iter:  1  LL:  -16.094668997711192\n",
      "Iter:  2  LL:  -14.287794027341253\n",
      "Iter:  4  LL:  -13.265082934492526\n",
      "Iter:  8  LL:  -12.847308711972167\n",
      "Iter:  16  LL:  -12.705998052491518\n",
      "Iter:  32  LL:  -12.640737126831326\n",
      "Iter:  64  LL:  -12.616074566973708\n"
     ]
    }
   ],
   "source": [
    "pos_r_given_z, r_given_z = run_EM(probZ_init, RgivenZ)"
   ]
  },
  {
   "cell_type": "markdown",
   "metadata": {},
   "source": [
    "### Personal Movie Recommendations"
   ]
  },
  {
   "cell_type": "markdown",
   "metadata": {},
   "source": [
    "##### Compute expected ratings on the movies you haven’t yet seen"
   ]
  },
  {
   "cell_type": "code",
   "execution_count": 267,
   "metadata": {},
   "outputs": [],
   "source": [
    "def personal_movie_recom(pos_r_given_z, r_given_z, user_idx, mov_idx, num_user_type=4):\n",
    "    sum1 = 0\n",
    "    for i in range(num_user_type):\n",
    "        sum1 += pos_r_given_z[user_idx][i]*r_given_z[mov_idx][i]\n",
    "    return sum1"
   ]
  },
  {
   "cell_type": "code",
   "execution_count": 276,
   "metadata": {},
   "outputs": [],
   "source": [
    "usr_idx = users.index(\"A53250934\")\n",
    "movies_not_watched = [i[0] for i in zip(*np.where(ratings[usr_idx]==-1))]\n",
    "movies_rec = defaultdict(float)\n",
    "for i in movies_not_watched:\n",
    "    movies_rec[movies[i]] = personal_movie_recom(pos_r_given_z, r_given_z, usr_idx, i)\n",
    "movies_rec = {k: v for k, v in sorted(movies_rec.items(), key=lambda item: item[1], reverse=True)}"
   ]
  },
  {
   "cell_type": "code",
   "execution_count": 277,
   "metadata": {},
   "outputs": [
    {
     "data": {
      "text/plain": [
       "{'Wolf_of_Wall_Street': 0.9343456270945864,\n",
       " 'The_Theory_of_Everything': 0.8849552927323545,\n",
       " 'Ex_Machina': 0.8600492859122858,\n",
       " 'Manchester_by_the_Sea': 0.8575765440892622,\n",
       " 'Three_Billboards_Outside_Ebbing': 0.8317312824955271,\n",
       " 'Hidden_Figures': 0.8316509707650084,\n",
       " 'Mad_Max:_Fury_Road': 0.8143612921954161,\n",
       " 'The_Girls_with_the_Dragon_Tattoo': 0.7593795833811183,\n",
       " 'Dunkirk': 0.7498560177582304,\n",
       " 'Drive': 0.6985938703206818,\n",
       " 'Phantom_Thread': 0.625210244195894,\n",
       " 'Magic_Mike': 0.5608931493099184,\n",
       " 'The_Shape_of_Water': 0.5199093976131663,\n",
       " 'I_Feel_Pretty': 0.49927330803349546,\n",
       " 'Chappaquidick': 0.42770756055779474}"
      ]
     },
     "execution_count": 277,
     "metadata": {},
     "output_type": "execute_result"
    }
   ],
   "source": [
    "movies_rec"
   ]
  }
 ],
 "metadata": {
  "kernelspec": {
   "display_name": "Python 3",
   "language": "python",
   "name": "python3"
  },
  "language_info": {
   "codemirror_mode": {
    "name": "ipython",
    "version": 3
   },
   "file_extension": ".py",
   "mimetype": "text/x-python",
   "name": "python",
   "nbconvert_exporter": "python",
   "pygments_lexer": "ipython3",
   "version": "3.6.8"
  }
 },
 "nbformat": 4,
 "nbformat_minor": 2
}
